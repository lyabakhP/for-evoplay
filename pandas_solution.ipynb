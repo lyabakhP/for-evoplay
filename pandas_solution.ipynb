{
 "cells": [
  {
   "cell_type": "code",
   "execution_count": 25,
   "metadata": {},
   "outputs": [],
   "source": [
    "import pandas as pd\n",
    "import numpy as np\n",
    "import re\n",
    "\n",
    "class Preprocess:\n",
    "    def __init__(self):\n",
    "        self._df_mean=None\n",
    "        self._df_std=None\n",
    "        \n",
    "\n",
    "    def read_tsv(self,path='D:/Job/CV/summer2019/jooble/data/test.tsv'):\n",
    "        df_chunk = pd.read_csv(path, sep='\\t', chunksize=100000)\n",
    "        chunk_list = []  \n",
    "\n",
    "        for chunk in df_chunk:  \n",
    "                chunk_list.append(chunk)\n",
    "        df = pd.concat(chunk_list)\n",
    "        df.features = df.features.str.split(',')\n",
    "        df.features = df.features.apply(lambda x: list(map(int, x)))\n",
    "        return df\n",
    "    \n",
    "    def _get_codes(self, features):\n",
    "        codes_parameters = dict()\n",
    "        for item in features:\n",
    "            codes_parameters[item[0]] = len(item[1:])\n",
    "        return codes_parameters\n",
    "    \n",
    "    def _code(self, x):\n",
    "        return x[0]\n",
    "\n",
    "    def _create_col_names(self, code):\n",
    "        return ['feature_{}_{}'.format(code[0], index) for index in range(1, code[1]+1)]\n",
    "    \n",
    "    def _create_columns(self, df):\n",
    "        codes_parameters = self._get_codes(df.features.values)\n",
    "        df['features_code'] = df.features.map(self._code)\n",
    "        df.features = df.features.apply(lambda x: x[1:])\n",
    "        for code in codes_parameters.items():\n",
    "            columns = self._create_col_names(code)\n",
    "            for index in range(0, code[1]):\n",
    "#             df[columns] = df[df['features_code']==code[0]].features.apply(pd.Series, index=columns)\n",
    "                df[columns[index]] = df[df['features_code']==code[0]].features.map(lambda x : x[index])\n",
    "\n",
    "        df = df.drop(['features','features_code'], axis=1)\n",
    "\n",
    "        return df\n",
    "    \n",
    "    def _max_feature_abs_mean_diff(self, df, mean):\n",
    "        df['max_feature_index'] = df.T.iloc[1:,:].idxmax(axis=0, skipna=True)\n",
    "        df['max_feature_abs_mean_diff'] = df.apply(lambda x: (x[x['max_feature_index']] - mean[x['max_feature_index']]), axis=1).abs()\n",
    "        df['max_feature_index'] = df['max_feature_index'].map(lambda x: re.findall(r'\\d+', x)[1])\n",
    "        return df\n",
    "    \n",
    "    def _normalizer(self,norm):\n",
    "        if norm==\"z_score\":\n",
    "            return self._z_score\n",
    "        else:\n",
    "            print('{} normalization was not implemented'.format(norm))\n",
    "            return None\n",
    "    \n",
    "    def _z_score(self, df, df_mean, df_std):\n",
    "        return (df-df_mean)/df_std\n",
    "    \n",
    "    def _mean(self, df):\n",
    "        return df.iloc[:, 1:].mean()\n",
    "    \n",
    "    def _std(self, df):\n",
    "        return df.iloc[:, 1:].std(skipna=True)\n",
    "    \n",
    "    def start_preprocessing(self, df):\n",
    "        df = self._create_columns(df.copy())    \n",
    "        self._df_mean = self._mean(df.copy())#.mean()\n",
    "        self._df_std = self._std(df.copy())#df.iloc[:, 1:].std(skipna=True)\n",
    "        df = self._max_feature_abs_mean_diff(df.copy(), self._df_mean.copy())\n",
    "        return df    \n",
    "            \n",
    "    def normalization(self, df, norm):\n",
    "        normalizer = self._normalizer(norm) \n",
    "        if normalizer!=None:\n",
    "            df.iloc[:, 1:-2] = normalizer(df.iloc[:, 1:-2], df_mean=self._df_mean, df_std=self._df_std)     \n",
    "            print('{} normalization finished'.format(norm))\n",
    "            return df\n",
    "        return df\n",
    "    \n",
    "    def to_tsv(self, df, path):\n",
    "        df.to_csv(path, sep='\\t',index=False, mode='a')\n",
    "        "
   ]
  },
  {
   "cell_type": "code",
   "execution_count": 26,
   "metadata": {},
   "outputs": [],
   "source": [
    "preprocessing = Preprocess()"
   ]
  },
  {
   "cell_type": "code",
   "execution_count": 27,
   "metadata": {},
   "outputs": [],
   "source": [
    "df = preprocessing.read_tsv('train.tsv')"
   ]
  },
  {
   "cell_type": "code",
   "execution_count": null,
   "metadata": {},
   "outputs": [],
   "source": []
  },
  {
   "cell_type": "code",
   "execution_count": 28,
   "metadata": {},
   "outputs": [
    {
     "data": {
      "text/html": [
       "<div>\n",
       "<style scoped>\n",
       "    .dataframe tbody tr th:only-of-type {\n",
       "        vertical-align: middle;\n",
       "    }\n",
       "\n",
       "    .dataframe tbody tr th {\n",
       "        vertical-align: top;\n",
       "    }\n",
       "\n",
       "    .dataframe thead th {\n",
       "        text-align: right;\n",
       "    }\n",
       "</style>\n",
       "<table border=\"1\" class=\"dataframe\">\n",
       "  <thead>\n",
       "    <tr style=\"text-align: right;\">\n",
       "      <th></th>\n",
       "      <th>id_job</th>\n",
       "      <th>features</th>\n",
       "    </tr>\n",
       "  </thead>\n",
       "  <tbody>\n",
       "    <tr>\n",
       "      <th>0</th>\n",
       "      <td>1864791934054678713</td>\n",
       "      <td>[2, 9835, 9999, 9941, 9945, 9386, 9899, 9421, ...</td>\n",
       "    </tr>\n",
       "    <tr>\n",
       "      <th>1</th>\n",
       "      <td>-7413918695841089440</td>\n",
       "      <td>[2, 9082, 9999, 9700, 9669, 9981, 9729, 9822, ...</td>\n",
       "    </tr>\n",
       "    <tr>\n",
       "      <th>2</th>\n",
       "      <td>-9223271545392256405</td>\n",
       "      <td>[2, 9064, 9999, 9730, 9585, 9890, 9740, 9751, ...</td>\n",
       "    </tr>\n",
       "    <tr>\n",
       "      <th>3</th>\n",
       "      <td>-9223240803898726824</td>\n",
       "      <td>[2, 9402, 9999, 9711, 9742, 9975, 9728, 9924, ...</td>\n",
       "    </tr>\n",
       "    <tr>\n",
       "      <th>4</th>\n",
       "      <td>-9223102057156184105</td>\n",
       "      <td>[2, 9655, 9996, 9751, 9722, 9925, 9736, 9987, ...</td>\n",
       "    </tr>\n",
       "  </tbody>\n",
       "</table>\n",
       "</div>"
      ],
      "text/plain": [
       "                id_job                                           features\n",
       "0  1864791934054678713  [2, 9835, 9999, 9941, 9945, 9386, 9899, 9421, ...\n",
       "1 -7413918695841089440  [2, 9082, 9999, 9700, 9669, 9981, 9729, 9822, ...\n",
       "2 -9223271545392256405  [2, 9064, 9999, 9730, 9585, 9890, 9740, 9751, ...\n",
       "3 -9223240803898726824  [2, 9402, 9999, 9711, 9742, 9975, 9728, 9924, ...\n",
       "4 -9223102057156184105  [2, 9655, 9996, 9751, 9722, 9925, 9736, 9987, ..."
      ]
     },
     "execution_count": 28,
     "metadata": {},
     "output_type": "execute_result"
    }
   ],
   "source": [
    "df.head()"
   ]
  },
  {
   "cell_type": "code",
   "execution_count": 29,
   "metadata": {},
   "outputs": [],
   "source": [
    "# df = df.append([df]*100,ignore_index=True)"
   ]
  },
  {
   "cell_type": "code",
   "execution_count": 30,
   "metadata": {},
   "outputs": [
    {
     "data": {
      "text/plain": [
       "(80699, 2)"
      ]
     },
     "execution_count": 30,
     "metadata": {},
     "output_type": "execute_result"
    }
   ],
   "source": [
    "df.shape"
   ]
  },
  {
   "cell_type": "code",
   "execution_count": 32,
   "metadata": {},
   "outputs": [],
   "source": [
    "df1 = preprocessing.start_preprocessing(df.copy())"
   ]
  },
  {
   "cell_type": "code",
   "execution_count": 33,
   "metadata": {},
   "outputs": [
    {
     "name": "stdout",
     "output_type": "stream",
     "text": [
      "min_max normalization was not implemented\n"
     ]
    }
   ],
   "source": [
    "df1 = preprocessing.normalization(df1.copy(), 'min_max')"
   ]
  },
  {
   "cell_type": "code",
   "execution_count": 34,
   "metadata": {},
   "outputs": [
    {
     "name": "stdout",
     "output_type": "stream",
     "text": [
      "z_score normalization finished\n"
     ]
    }
   ],
   "source": [
    "df1 = preprocessing.normalization(df1.copy(), 'z_score')"
   ]
  },
  {
   "cell_type": "code",
   "execution_count": 35,
   "metadata": {},
   "outputs": [
    {
     "data": {
      "text/plain": [
       "(80699, 259)"
      ]
     },
     "execution_count": 35,
     "metadata": {},
     "output_type": "execute_result"
    }
   ],
   "source": [
    "df1.shape"
   ]
  },
  {
   "cell_type": "code",
   "execution_count": 37,
   "metadata": {},
   "outputs": [],
   "source": [
    "preprocessing.to_tsv(df1, 'test.tsv')"
   ]
  },
  {
   "cell_type": "code",
   "execution_count": null,
   "metadata": {},
   "outputs": [],
   "source": []
  },
  {
   "cell_type": "code",
   "execution_count": null,
   "metadata": {},
   "outputs": [],
   "source": []
  }
 ],
 "metadata": {
  "kernelspec": {
   "display_name": "Python 3",
   "language": "python",
   "name": "python3"
  },
  "language_info": {
   "codemirror_mode": {
    "name": "ipython",
    "version": 3
   },
   "file_extension": ".py",
   "mimetype": "text/x-python",
   "name": "python",
   "nbconvert_exporter": "python",
   "pygments_lexer": "ipython3",
   "version": "3.7.1"
  }
 },
 "nbformat": 4,
 "nbformat_minor": 2
}
